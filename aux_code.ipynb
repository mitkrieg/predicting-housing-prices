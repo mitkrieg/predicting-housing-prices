{
 "cells": [
  {
   "cell_type": "markdown",
   "metadata": {},
   "source": [
    "# Auxilary Exploratory Code\n",
    "This notebook contains auxilary code unused in the final product of the project \n",
    "***\n"
   ]
  },
  {
   "cell_type": "markdown",
   "metadata": {},
   "source": [
    "#### Zipcode Dummies"
   ]
  },
  {
   "cell_type": "code",
   "execution_count": null,
   "metadata": {},
   "outputs": [],
   "source": [
    "# cat_encoder2 = OneHotEncoder()\n",
    "# zipcode_dummies = cat_encoder2.fit_transform(houses_train[['zipcode']])\n",
    "\n",
    "# zipcodes = []\n",
    "# for zipcode in cat_encoder2.categories_[0].tolist():\n",
    "#     zipcodes.append(str(zipcode))\n",
    "\n",
    "# dummy_df = pd.DataFrame(zipcode_dummies.toarray(),columns=zipcodes)\n",
    "# houses_train_dumb = pd.concat([houses_train_dumb,dummy_df],axis=1) "
   ]
  },
  {
   "cell_type": "markdown",
   "metadata": {},
   "source": [
    "**Reverse Geocoding using Geopy & Nominatim**"
   ]
  },
  {
   "cell_type": "code",
   "execution_count": null,
   "metadata": {},
   "outputs": [],
   "source": [
    "from geopy.geocoders import Nominatim\n",
    "import requests\n",
    "\n",
    "#testing\n",
    "geolocator = Nominatim(user_agent='mitkrieger@gmail.com')\n",
    "print(geolocator.reverse('47.6364752, -122.3567059').raw['address']['suburb'])\n",
    "\n",
    "from geopy.extra.rate_limiter import RateLimiter\n",
    "geocode = RateLimiter(geolocator.reverse, min_delay_seconds=.000001)"
   ]
  },
  {
   "cell_type": "markdown",
   "metadata": {},
   "source": [
    "#### Floor Dummies"
   ]
  },
  {
   "cell_type": "code",
   "execution_count": null,
   "metadata": {},
   "outputs": [],
   "source": [
    "cat_encoder2 = OneHotEncoder()\n",
    "floor_dummies = cat_encoder2.fit_transform(houses_train[['floors']])\n",
    "\n",
    "floor_names = []\n",
    "for floor in cat_encoder2.categories_[0].tolist():\n",
    "    floor_names.append(\"floor_\"+str(floor).replace('.','_'))\n",
    "    \n",
    "dummy_df = pd.DataFrame(floor_dummies.toarray(),columns=floor_names)\n",
    "houses_train_dumb = pd.concat([houses_train_dumb,dummy_df],axis=1) "
   ]
  }
 ],
 "metadata": {
  "kernelspec": {
   "display_name": "learn-env",
   "language": "python",
   "name": "learn-env"
  },
  "language_info": {
   "codemirror_mode": {
    "name": "ipython",
    "version": 3
   },
   "file_extension": ".py",
   "mimetype": "text/x-python",
   "name": "python",
   "nbconvert_exporter": "python",
   "pygments_lexer": "ipython3",
   "version": "3.6.9"
  }
 },
 "nbformat": 4,
 "nbformat_minor": 4
}
